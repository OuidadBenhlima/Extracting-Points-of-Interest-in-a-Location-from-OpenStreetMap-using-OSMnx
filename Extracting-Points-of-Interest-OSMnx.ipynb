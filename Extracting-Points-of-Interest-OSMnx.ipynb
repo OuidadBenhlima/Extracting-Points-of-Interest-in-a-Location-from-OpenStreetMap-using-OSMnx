{
 "cells": [
  {
   "cell_type": "code",
   "execution_count": 3,
   "id": "0d5b67c1",
   "metadata": {},
   "outputs": [],
   "source": [
    "from shapely.geometry import Point, Polygon\n",
    "import pandas as pd\n",
    "import osmnx as ox\n",
    "\n",
    "def extract_osm_data(place_name, tags, output_file, level_map=None):\n",
    "    \n",
    "    # Download the OpenStreetMap data for the area\n",
    "    pois = ox.geometries_from_place(place_name, tags=tags)\n",
    "\n",
    "    # Convert the data to a pandas DataFrame\n",
    "    df = pd.DataFrame(pois, columns=['name', 'addr:street', 'addr:city', 'addr:postcode', 'employees','amenity', 'geometry'])\n",
    "\n",
    "    # Map each point of interest to a level based on the 'amenity' tag, if a level_map is provided\n",
    "    if level_map:\n",
    "        df['level'] = df['amenity'].map(level_map)\n",
    "\n",
    "    # Filter out any rows where the 'level' column is NaN\n",
    "        df = df.dropna(subset=['level'])\n",
    "\n",
    "    # Apply the 'extract_coordinates' function to create separate 'x' and 'y' columns\n",
    "    def extract_coordinates(row):\n",
    "        geom = row['geometry']\n",
    "        if isinstance(geom, Point):\n",
    "            x, y = geom.coords[0]\n",
    "        elif isinstance(geom, Polygon):\n",
    "            centroid = geom.centroid\n",
    "            x, y = centroid.x, centroid.y\n",
    "        else:\n",
    "            raise ValueError(f\"Unsupported geometry type: {type(geom)}\")\n",
    "        return (x, y)\n",
    "\n",
    "    df['x'], df['y'] = zip(*df.apply(extract_coordinates, axis=1))\n",
    "\n",
    "    # Save the resulting DataFrame to a CSV file\n",
    "    df.to_csv(output_file, index=False)\n",
    "\n",
    "    return df"
   ]
  },
  {
   "cell_type": "code",
   "execution_count": 5,
   "id": "2d911e75",
   "metadata": {},
   "outputs": [],
   "source": [
    "df_business =extract_osm_data(\"Casablanca, Morocco\", {'building': ['commercial', 'industrial', 'office', 'retail'], 'amenity': ['coworking_space', 'conference_centre', 'courthouse', 'office', 'public_building']}, 'businesses.csv', level_map=None)\n"
   ]
  },
  {
   "cell_type": "code",
   "execution_count": 4,
   "id": "1f7fb631",
   "metadata": {},
   "outputs": [],
   "source": [
    "df_schools = extract_osm_data(\"Casablanca, Morocco\", {'amenity': ['school', 'university']} , 'education.csv', level_map={'school': 'school', 'university': 'university'})"
   ]
  },
  {
   "cell_type": "code",
   "execution_count": null,
   "id": "259de678",
   "metadata": {},
   "outputs": [],
   "source": []
  },
  {
   "cell_type": "code",
   "execution_count": null,
   "id": "8cf82bd0",
   "metadata": {},
   "outputs": [],
   "source": []
  },
  {
   "cell_type": "code",
   "execution_count": null,
   "id": "416868ca",
   "metadata": {},
   "outputs": [],
   "source": []
  },
  {
   "cell_type": "code",
   "execution_count": null,
   "id": "b8279661",
   "metadata": {},
   "outputs": [],
   "source": []
  },
  {
   "cell_type": "code",
   "execution_count": null,
   "id": "11fc9d7a",
   "metadata": {},
   "outputs": [],
   "source": []
  },
  {
   "cell_type": "code",
   "execution_count": null,
   "id": "a37bce47",
   "metadata": {},
   "outputs": [],
   "source": []
  },
  {
   "cell_type": "code",
   "execution_count": null,
   "id": "859880c0",
   "metadata": {},
   "outputs": [],
   "source": []
  },
  {
   "cell_type": "code",
   "execution_count": null,
   "id": "5b8f6c5b",
   "metadata": {},
   "outputs": [],
   "source": []
  },
  {
   "cell_type": "code",
   "execution_count": null,
   "id": "8b55f152",
   "metadata": {},
   "outputs": [],
   "source": []
  }
 ],
 "metadata": {
  "kernelspec": {
   "display_name": "whitetaxis",
   "language": "python",
   "name": "whitetaxis"
  },
  "language_info": {
   "codemirror_mode": {
    "name": "ipython",
    "version": 3
   },
   "file_extension": ".py",
   "mimetype": "text/x-python",
   "name": "python",
   "nbconvert_exporter": "python",
   "pygments_lexer": "ipython3",
   "version": "3.9.7"
  }
 },
 "nbformat": 4,
 "nbformat_minor": 5
}
